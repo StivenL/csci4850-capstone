{
 "cells": [
  {
   "cell_type": "code",
   "execution_count": 1,
   "id": "d96135f6-0c3c-4a22-b96b-951e2b9415da",
   "metadata": {},
   "outputs": [],
   "source": [
    "import numpy as np\n",
    "import pandas as pd\n",
    "import seaborn as sns\n",
    "import matplotlib.pyplot as plt\n",
    "\n",
    "from sklearn.metrics import mean_squared_error, r2_score, mean_absolute_error\n",
    "\n",
    "from sklearn.model_selection import train_test_split\n",
    "from sklearn.linear_model import LinearRegression"
   ]
  },
  {
   "cell_type": "code",
   "execution_count": 4,
   "id": "dfdb8b16-dae4-4d8f-9210-48bebe581102",
   "metadata": {},
   "outputs": [],
   "source": [
    "# jan = pd.read_csv('../data/processed/jan_historical.csv')\n",
    "# feb = pd.read_csv('../data/processed/feb_historical.csv')\n",
    "# mar = pd.read_csv('../data/processed/mar_historical.csv')\n",
    "# apr = pd.read_csv('../data/processed/apr_historical.csv')\n",
    "# may = pd.read_csv('../data/processed/may_historical.csv')\n",
    "# jun = pd.read_csv('../data/processed/jun_historical.csv')\n",
    "# jul = pd.read_csv('../data/processed/jul_historical.csv')\n",
    "# aug = pd.read_csv('../data/processed/aug_historical.csv')\n",
    "# sep = pd.read_csv('../data/processed/sep_historical.csv')\n",
    "# octo = pd.read_csv('../data/processed/oct_historical.csv')\n",
    "# nov = pd.read_csv('../data/processed/nov_historical.csv')\n",
    "# dec = pd.read_csv('../data/processed/dec_historical.csv')"
   ]
  },
  {
   "cell_type": "code",
   "execution_count": 16,
   "id": "9baa7e7e-7875-4f57-af97-03bffd08f0cd",
   "metadata": {},
   "outputs": [],
   "source": [
    "months = {'Jan' : '../data/processed/jan_historical.csv', 'Feb' : '../data/processed/feb_historical.csv', 'Mar' : '../data/processed/mar_historical.csv',\n",
    "         'Apr' : '../data/processed/apr_historical.csv', 'May' : '../data/processed/may_historical.csv', 'Jun' : '../data/processed/jun_historical.csv',\n",
    "         'Jul' : '../data/processed/jul_historical.csv', 'Aug' : '../data/processed/aug_historical.csv', 'Sep' : '../data/processed/sep_historical.csv',\n",
    "         'Oct' : '../data/processed/oct_historical.csv', 'Nov' : '../data/processed/nov_historical.csv', 'Dec' : '../data/processed/dec_historical.csv'}"
   ]
  },
  {
   "cell_type": "markdown",
   "id": "ea5ab022-a22e-4826-a3ef-f300e22e5885",
   "metadata": {},
   "source": [
    "## Get stats on all months\n",
    "** Based on all departments **"
   ]
  },
  {
   "cell_type": "code",
   "execution_count": 26,
   "id": "5b0aa987-a927-4efa-8c31-5e823244764e",
   "metadata": {},
   "outputs": [
    {
     "name": "stdout",
     "output_type": "stream",
     "text": [
      "Jan MLR RMSE: 34.471\n",
      "Jan MLR R^2: 0.305 \n",
      "\n",
      "Feb MLR RMSE: 13.83\n",
      "Feb MLR R^2: 0.716 \n",
      "\n",
      "Mar MLR RMSE: 16.982\n",
      "Mar MLR R^2: 0.706 \n",
      "\n",
      "Apr MLR RMSE: 15.118\n",
      "Apr MLR R^2: 0.661 \n",
      "\n",
      "May MLR RMSE: 17.772\n",
      "May MLR R^2: 0.696 \n",
      "\n",
      "Jun MLR RMSE: 11.285\n",
      "Jun MLR R^2: 0.692 \n",
      "\n",
      "Jul MLR RMSE: 12.483\n",
      "Jul MLR R^2: 0.591 \n",
      "\n",
      "Aug MLR RMSE: 15.133\n",
      "Aug MLR R^2: 0.566 \n",
      "\n",
      "Sep MLR RMSE: 16.284\n",
      "Sep MLR R^2: 0.666 \n",
      "\n",
      "Oct MLR RMSE: 17.606\n",
      "Oct MLR R^2: 0.695 \n",
      "\n",
      "Nov MLR RMSE: 41.769\n",
      "Nov MLR R^2: 0.702 \n",
      "\n",
      "Dec MLR RMSE: 41.044\n",
      "Dec MLR R^2: 0.546 \n",
      "\n",
      "Average RMSE: 21.148\n",
      "Average R^2: 0.629\n"
     ]
    }
   ],
   "source": [
    "avg_rmse = []\n",
    "avg_r2 = []\n",
    "\n",
    "for month in months:\n",
    "    data = pd.read_csv(months.get(month))\n",
    "    \n",
    "    X = data.drop('TotalUnitsSold', axis=1)\n",
    "    y = data['TotalUnitsSold']\n",
    "    \n",
    "    X_train, X_test, y_train, y_test = train_test_split(X, y, test_size=0.2, random_state=42)\n",
    "    \n",
    "    model = LinearRegression()\n",
    "    model.fit(X_train, y_train)\n",
    "    \n",
    "    yhat_test = model.predict(X_test)\n",
    "    \n",
    "    avg_rmse.append(round(np.sqrt(mean_squared_error(y_test, yhat_test)), 3))\n",
    "    avg_r2.append(round(r2_score(y_test, yhat_test), 3))\n",
    "    \n",
    "    print(f'{month} MLR RMSE: {round(np.sqrt(mean_squared_error(y_test, yhat_test)), 3)}')\n",
    "    print(f'{month} MLR R^2: {round(r2_score(y_test, yhat_test), 3)} \\n')\n",
    "    \n",
    "print(f'Average RMSE: {round(sum(avg_rmse) / len(avg_rmse), 3)}')\n",
    "print(f'Average R^2: {round(sum(avg_r2) / len(avg_r2), 3)}')"
   ]
  },
  {
   "cell_type": "markdown",
   "id": "4ef9d4f6-9c73-4342-97a6-4f3517bae406",
   "metadata": {},
   "source": [
    "### January and December seem to be the most volatile cases"
   ]
  },
  {
   "cell_type": "code",
   "execution_count": null,
   "id": "b985c573-2be0-42fa-8002-896955dfa37f",
   "metadata": {},
   "outputs": [],
   "source": []
  }
 ],
 "metadata": {
  "kernelspec": {
   "display_name": "Python 3 (ipykernel)",
   "language": "python",
   "name": "python3"
  },
  "language_info": {
   "codemirror_mode": {
    "name": "ipython",
    "version": 3
   },
   "file_extension": ".py",
   "mimetype": "text/x-python",
   "name": "python",
   "nbconvert_exporter": "python",
   "pygments_lexer": "ipython3",
   "version": "3.9.12"
  },
  "vscode": {
   "interpreter": {
    "hash": "081d11f7bde678c797f180f3401ba7cb2f52a8ae3efd2e17036ddd98ff92053f"
   }
  }
 },
 "nbformat": 4,
 "nbformat_minor": 5
}
