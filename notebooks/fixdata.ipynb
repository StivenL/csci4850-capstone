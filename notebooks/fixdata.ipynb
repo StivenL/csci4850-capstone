{
 "cells": [
  {
   "cell_type": "code",
   "execution_count": 1,
   "id": "d5c52d6e-e939-4683-acce-f217a0f4d647",
   "metadata": {},
   "outputs": [],
   "source": [
    "import numpy as np\n",
    "import pandas as pd"
   ]
  },
  {
   "cell_type": "code",
   "execution_count": 2,
   "id": "a7fd0492-eea0-40e2-a98d-8eb3a0ae0ea4",
   "metadata": {},
   "outputs": [],
   "source": [
    "data_2019 = pd.read_csv('../data/raw/Historical2019.csv')"
   ]
  },
  {
   "cell_type": "code",
   "execution_count": 3,
   "id": "c40026a0-e32a-4113-aeda-df5f41ab0e43",
   "metadata": {},
   "outputs": [],
   "source": [
    "data_2020 = pd.read_csv('../data/raw/Historical2020.csv')"
   ]
  },
  {
   "cell_type": "code",
   "execution_count": 4,
   "id": "dce8c4e8-3976-4eef-8a0b-a32c7aba7d24",
   "metadata": {},
   "outputs": [],
   "source": [
    "data_2021 = pd.read_csv('../data/raw/Historical2021.csv')"
   ]
  },
  {
   "cell_type": "code",
   "execution_count": 5,
   "id": "5c53bfb9-f61a-4b5a-a2ed-ce34fe1e8166",
   "metadata": {},
   "outputs": [],
   "source": [
    "data_2022 = pd.read_csv('../data/raw/Historical2022.csv')"
   ]
  },
  {
   "cell_type": "code",
   "execution_count": 22,
   "id": "9a91775c-ef47-45e9-b194-454f283cf65c",
   "metadata": {},
   "outputs": [
    {
     "data": {
      "text/plain": [
       "array([ 1,  2,  3,  4,  5,  6,  7,  8,  9, 10, 11, 12, 13, 14, 15, 16, 17,\n",
       "       18, 19, 20, 21, 22, 23, 24, 25, 26, 27, 28, 29, 30, 31, 32, 33, 34,\n",
       "       35, 36, 37, 38, 39, 40, 41, 42, 43, 44, 45, 46, 47, 48, 49, 50, 51,\n",
       "       52])"
      ]
     },
     "execution_count": 22,
     "metadata": {},
     "output_type": "execute_result"
    }
   ],
   "source": [
    "data_2019['WeekOfYearNumber'].unique()"
   ]
  },
  {
   "cell_type": "markdown",
   "id": "ba23e547-44bc-4416-8384-d97b1b0b8ffb",
   "metadata": {},
   "source": [
    "#### now wtf do i do"
   ]
  },
  {
   "cell_type": "code",
   "execution_count": 88,
   "id": "841e554e-36ee-4cec-b5bb-1cf6c3fbd4d6",
   "metadata": {},
   "outputs": [],
   "source": [
    "oct_2019 = pd.concat([data_2019[data_2019['WeekOfYearNumber'] == 40], data_2019[data_2019['WeekOfYearNumber'] == 41],\n",
    "                      data_2019[data_2019['WeekOfYearNumber'] == 42], data_2019[data_2019['WeekOfYearNumber'] == 43],\n",
    "                      data_2019[data_2019['WeekOfYearNumber'] == 44]], ignore_index=True)\n",
    "\n",
    "oct_2020 = pd.concat([data_2020[data_2020['WeekOfYearNumber'] == 40], data_2020[data_2020['WeekOfYearNumber'] == 41],\n",
    "                      data_2020[data_2020['WeekOfYearNumber'] == 42], data_2020[data_2020['WeekOfYearNumber'] == 43],\n",
    "                      data_2020[data_2020['WeekOfYearNumber'] == 44]], ignore_index=True)\n",
    "\n",
    "oct_2021 = pd.concat([data_2021[data_2021['WeekOfYearNumber'] == 40], data_2021[data_2021['WeekOfYearNumber'] == 41],\n",
    "                      data_2021[data_2021['WeekOfYearNumber'] == 42], data_2021[data_2021['WeekOfYearNumber'] == 43],\n",
    "                      data_2021[data_2021['WeekOfYearNumber'] == 44]], ignore_index=True)\n",
    "\n",
    "oct_2022 = pd.concat([data_2022[data_2022['WeekOfYearNumber'] == 40], data_2022[data_2022['WeekOfYearNumber'] == 41],\n",
    "                      data_2022[data_2022['WeekOfYearNumber'] == 42], data_2022[data_2022['WeekOfYearNumber'] == 43],\n",
    "                      data_2022[data_2022['WeekOfYearNumber'] == 44]], ignore_index=True)"
   ]
  },
  {
   "cell_type": "code",
   "execution_count": 89,
   "id": "89b663ae-0d72-471c-825c-007b7edf0446",
   "metadata": {},
   "outputs": [],
   "source": [
    "oct_historical = pd.concat([oct_2019, oct_2020, oct_2021, oct_2022], ignore_index=True)"
   ]
  },
  {
   "cell_type": "code",
   "execution_count": 90,
   "id": "bd8be08f-379a-4bcb-8049-475b49133bc4",
   "metadata": {},
   "outputs": [],
   "source": [
    "oct_historical.to_csv('oct_historical.csv', index=False, header=True)"
   ]
  },
  {
   "cell_type": "code",
   "execution_count": null,
   "id": "66e80528-0609-4a44-9296-d9eb7f7e0f1c",
   "metadata": {},
   "outputs": [],
   "source": []
  },
  {
   "cell_type": "code",
   "execution_count": 94,
   "id": "c6a671d4-83f2-470a-8b70-ca6d7f0c579b",
   "metadata": {},
   "outputs": [],
   "source": [
    "dec_2019 = pd.concat([data_2019[data_2019['WeekOfYearNumber'] == 49], data_2019[data_2019['WeekOfYearNumber'] == 50],\n",
    "                      data_2019[data_2019['WeekOfYearNumber'] == 51], data_2019[data_2019['WeekOfYearNumber'] == 52]], ignore_index=True)\n",
    "\n",
    "dec_2020 = pd.concat([data_2020[data_2020['WeekOfYearNumber'] == 49], data_2020[data_2020['WeekOfYearNumber'] == 50],\n",
    "                      data_2020[data_2020['WeekOfYearNumber'] == 51], data_2020[data_2020['WeekOfYearNumber'] == 52]], ignore_index=True)\n",
    "\n",
    "dec_2021 = pd.concat([data_2021[data_2021['WeekOfYearNumber'] == 49], data_2021[data_2021['WeekOfYearNumber'] == 50],\n",
    "                      data_2021[data_2021['WeekOfYearNumber'] == 51], data_2021[data_2021['WeekOfYearNumber'] == 52]], ignore_index=True)\n",
    "\n",
    "dec_2022 = pd.concat([data_2022[data_2022['WeekOfYearNumber'] == 49], data_2022[data_2022['WeekOfYearNumber'] == 50],\n",
    "                      data_2022[data_2022['WeekOfYearNumber'] == 51], data_2022[data_2022['WeekOfYearNumber'] == 52]], ignore_index=True)"
   ]
  },
  {
   "cell_type": "code",
   "execution_count": 95,
   "id": "b825d867-a078-4d04-8af1-fe74807d7355",
   "metadata": {},
   "outputs": [],
   "source": [
    "dec_historical = pd.concat([dec_2019, dec_2020, dec_2021, dec_2022], ignore_index=True)"
   ]
  },
  {
   "cell_type": "code",
   "execution_count": 96,
   "id": "c4fc2ada-b9bd-4525-b87f-e3602521a519",
   "metadata": {},
   "outputs": [],
   "source": [
    "dec_historical.to_csv('dec_historical.csv', index = False, header = True)"
   ]
  },
  {
   "cell_type": "code",
   "execution_count": null,
   "id": "fc3872e3-c7fe-4c0e-896b-78d639daa934",
   "metadata": {},
   "outputs": [],
   "source": []
  }
 ],
 "metadata": {
  "kernelspec": {
   "display_name": "Python 3 (ipykernel)",
   "language": "python",
   "name": "python3"
  },
  "language_info": {
   "codemirror_mode": {
    "name": "ipython",
    "version": 3
   },
   "file_extension": ".py",
   "mimetype": "text/x-python",
   "name": "python",
   "nbconvert_exporter": "python",
   "pygments_lexer": "ipython3",
   "version": "3.9.12"
  }
 },
 "nbformat": 4,
 "nbformat_minor": 5
}
